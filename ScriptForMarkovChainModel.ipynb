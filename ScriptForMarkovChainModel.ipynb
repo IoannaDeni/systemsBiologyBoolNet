{
 "cells": [
  {
   "cell_type": "markdown",
   "metadata": {},
   "source": [
    "Script For MarkovChain Models and getting the steady state distribuution of Boolean Perturbed Networks\n",
    "- written by Ioanna Deni 2018\n",
    "\n",
    "This script uses networks downloaded as sbml files from website https://cellcollective.org/# and analysed their properties by using BoolNet in r 3.4.4 (https://cran.r-project.org/web/packages/BoolNet/BoolNet.pdf)"
   ]
  },
  {
   "cell_type": "code",
   "execution_count": null,
   "metadata": {
    "collapsed": true
   },
   "outputs": [],
   "source": [
    "#install.packages(\"BoolNet\", repos = \"http://cran.us.r-project.org\")\n",
    "library(BoolNet)\n",
    "library(markovchain)"
   ]
  },
  {
   "cell_type": "markdown",
   "metadata": {},
   "source": [
    "Simulating the network and examining the steady state distribution of transitions between states due to perturbations will reveal the probability of a state to develop into an alternative state or to maintain itself. "
   ]
  },
  {
   "cell_type": "code",
   "execution_count": null,
   "metadata": {
    "collapsed": true
   },
   "outputs": [],
   "source": [
    "finalNetwork <- loadSBML(\"CellCycleTranscriptionbyCoupledCDKandNetwork.sbml\")\n",
    "\n",
    "sim <- markovSimulation(finalNetwork)\n",
    "# The simulation shows the states that are reached after 1000 iterations\n",
    "transitionProb <- getTransitionProbabilities(sim)\n",
    "#retrieving the adjacency transition matrix \n",
    "\n",
    "xNet <- vector()\n",
    "statesNet <- list()\n",
    "\n",
    "#IMPORTANT: the following loop needs to change for the number of genes of the network -> this example has 9 genes\n",
    "\n",
    "for (rows in 0:nrow(transitionProb)){\n",
    "  #this will be a string of zeros describing the initial state  \n",
    "  lineInitNet <- paste0(transitionProb[rows, 1], transitionProb[rows, 2], transitionProb[rows, 3], transitionProb[rows, 4], transitionProb[rows, 5], transitionProb[rows, 6], transitionProb[rows, 7], transitionProb[rows, 8], transitionProb[rows, 9])\n",
    "  #this will be a string of zeros describing the final state after 1000 iterations\n",
    "  lineFinalNet <- paste0(transitionProb[rows, 10], transitionProb[rows, 11], transitionProb[rows, 12], transitionProb[rows, 13], transitionProb[rows, 14], transitionProb[rows, 15], transitionProb[rows, 16], transitionProb[rows, 17], transitionProb[rows, 18])\n",
    "  probN <- transitionProb[rows, 19] \n",
    "    \n",
    "  xNet <- append(xNet, lineInitNet) \n",
    "  statesNet <- append(statesNet, lineInitNet)  \n",
    "  xNet <- append(xNet, lineFinalNet) \n",
    "  xNet <- append(xNet, probN)   \n",
    "}\n",
    "\n",
    "#converting the vector in numbers \n",
    "nNet <- factor(xNet)\n",
    "\n",
    "#creating a matrix to represent the transition matrix\n",
    "myMatrixSNet <- matrix(nNet,ncol=3,byrow=TRUE)\n",
    "#naming the columns appropriately\n",
    "myDataSNet <- matrix(0, nrow = nrow(transitionProb), ncol= nrow(transitionProb), dimnames = list(statesNet, statesNet))\n",
    "#and filling it with the values\n",
    "for (i in 1:nrow(myDataSNet)){    \n",
    "    for (j in 1:ncol(myDataSNet)){\n",
    "        #filling it with ones when there is a transition and zero where there is no transition\n",
    "        if (colnames(myDataSNet)[j] %in% myMatrixSNet[i, 2]){\n",
    "            myDataSNet[i, j] <- 1\n",
    "        }\n",
    "    }  \n",
    "}\n",
    "\n",
    "#getting the transpose so in myMatrix the col sums are 1 \n",
    "myMatrix <- t(myDataSNet)"
   ]
  },
  {
   "cell_type": "markdown",
   "metadata": {},
   "source": [
    "The perturbations are defined by flipping a state from 0 to 1 or from 1 to zero at the initial state and following that new perturbed state after 1000 iterations to see at what basin it reached using the same adjecency matrix. The single perturbation is done for all genes found in each state and the resullting probability is a fraction (# perturbed state reached state basin n)/(# of genes) for all basin found in the network. Further, there can be two flippings of a state, two genes switching from 0 to 1 or from 1 to 0, and there can be three flippings and four and n for n genes. Thus this following algorithm assigns the probability of 1....n flippings based on the binomial coefficient while assuming that the probability of flipping is very small 0.01  "
   ]
  },
  {
   "cell_type": "code",
   "execution_count": null,
   "metadata": {
    "collapsed": true
   },
   "outputs": [],
   "source": [
    "probMatrix <- matrix(0, nrow = nrow(myMatrix), ncol= nrow(myMatrix), dimnames = list(statesNet, statesNet))\n",
    "# matrix to save the probability of transition matrix\n",
    "e <- 0.01 #this just needs to be a small number - probability of flipping \n",
    "m <- 9 #number of bits of a state - number of genes on the network\n",
    "\n",
    "for (col in 1:ncol(myMatrix)){    \n",
    "    for (row in 1:nrow(myMatrix)){ \n",
    "        currentState <- colnames(myMatrix)[col]\n",
    "        nextState <- rownames(myMatrix)[row]\n",
    "        order <- 0 # this will store the number representing the different states of the initial to the perturbed state \n",
    "        for (char in 1:nchar(currentState)){\n",
    "            characterNow <- substr(currentState, char, char)\n",
    "            characterNext <- substr(nextState, char, char)\n",
    "            if (characterNow != characterNext){\n",
    "                order <- order + 1\n",
    "            }   \n",
    "        } \n",
    "        if (order == 0){\n",
    "            probMatrix[row, col] <- 0\n",
    "        }else {\n",
    "            probMatrix[row, col] <- (e^(order)) * ((1-e)^(m-order)) #here is the assignment of the binomial probability distribution \n",
    "        }\n",
    "    }\n",
    "}"
   ]
  },
  {
   "cell_type": "markdown",
   "metadata": {},
   "source": [
    "The myMatrix has the distinct transition matrix and teh probMatrix has the perturbed transition states. In the followin part these two matrices are combined."
   ]
  },
  {
   "cell_type": "code",
   "execution_count": null,
   "metadata": {
    "collapsed": true
   },
   "outputs": [],
   "source": [
    "combMatrix <- matrix(0, nrow = nrow(myMatrix), ncol= nrow(myMatrix), dimnames = list(statesNet, statesNet))\n",
    "for (col in 1:ncol(myMatrix)){ \n",
    "    for (row in 1:nrow(myMatrix)){ \n",
    "        combMatrix[row, col] <- ((1-e)^m)*myMatrix[row, col] + probMatrix[row, col]}}"
   ]
  },
  {
   "cell_type": "markdown",
   "metadata": {},
   "source": [
    "Finaly using the seconnd library markovchain the steady state distribution of all states can be calculated."
   ]
  },
  {
   "cell_type": "code",
   "execution_count": null,
   "metadata": {
    "collapsed": true
   },
   "outputs": [],
   "source": [
    "mcNewMatrix <- as(combMatrix, \"markovchain\")\n",
    "probMcCanonic <- canonicForm(t(mcNewMatrix)) # thsi reduces the running time\n",
    "myStates <- steadyStates(probMcCanonic)\n",
    "\n",
    "myStates #this will add up to 1"
   ]
  }
 ],
 "metadata": {
  "kernelspec": {
   "display_name": "R",
   "language": "R",
   "name": "ir"
  },
  "language_info": {
   "codemirror_mode": "r",
   "file_extension": ".r",
   "mimetype": "text/x-r-source",
   "name": "R",
   "pygments_lexer": "r",
   "version": "3.4.1"
  }
 },
 "nbformat": 4,
 "nbformat_minor": 2
}
